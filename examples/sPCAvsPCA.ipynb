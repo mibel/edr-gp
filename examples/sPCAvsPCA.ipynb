{
 "cells": [
  {
   "cell_type": "markdown",
   "metadata": {},
   "source": [
    "# Example 2"
   ]
  },
  {
   "cell_type": "markdown",
   "metadata": {},
   "source": [
    "It's an example with sparse matrix $B$ $\\left(f(x) = \\overline{f}(Bx)\\right)$ showing that PCA will produce a dense response while sPCA will give a sparse one"
   ]
  },
  {
   "cell_type": "code",
   "execution_count": 1,
   "metadata": {
    "collapsed": true
   },
   "outputs": [],
   "source": [
    "import sys\n",
    "import os.path as op\n",
    "sys.path = [op.abspath('../')] + sys.path + [op.abspath('../')]"
   ]
  },
  {
   "cell_type": "code",
   "execution_count": 2,
   "metadata": {
    "collapsed": true
   },
   "outputs": [],
   "source": [
    "import regression\n",
    "import seaborn as sns\n",
    "sns.set()\n",
    "%matplotlib inline"
   ]
  },
  {
   "cell_type": "code",
   "execution_count": 3,
   "metadata": {
    "collapsed": true
   },
   "outputs": [],
   "source": [
    "import pandas as pd\n",
    "import numpy as np\n",
    "import scipy"
   ]
  },
  {
   "cell_type": "markdown",
   "metadata": {},
   "source": [
    "### Generate toy dataset with sparse matrix B"
   ]
  },
  {
   "cell_type": "code",
   "execution_count": 4,
   "metadata": {
    "collapsed": true
   },
   "outputs": [],
   "source": [
    "X, y, B = regression.data_2example()"
   ]
  },
  {
   "cell_type": "code",
   "execution_count": 9,
   "metadata": {},
   "outputs": [
    {
     "data": {
      "text/html": [
       "<div>\n",
       "<table border=\"1\" class=\"dataframe\">\n",
       "  <thead>\n",
       "    <tr style=\"text-align: right;\">\n",
       "      <th></th>\n",
       "      <th>0</th>\n",
       "      <th>1</th>\n",
       "      <th>2</th>\n",
       "      <th>3</th>\n",
       "      <th>4</th>\n",
       "      <th>5</th>\n",
       "      <th>6</th>\n",
       "      <th>7</th>\n",
       "    </tr>\n",
       "  </thead>\n",
       "  <tbody>\n",
       "    <tr>\n",
       "      <th>0</th>\n",
       "      <td>1.000000</td>\n",
       "      <td>0.252892</td>\n",
       "      <td>-0.007687</td>\n",
       "      <td>-0.153986</td>\n",
       "      <td>-0.042288</td>\n",
       "      <td>0.311187</td>\n",
       "      <td>-0.023219</td>\n",
       "      <td>0.288986</td>\n",
       "    </tr>\n",
       "    <tr>\n",
       "      <th>1</th>\n",
       "      <td>0.252892</td>\n",
       "      <td>1.000000</td>\n",
       "      <td>-0.231176</td>\n",
       "      <td>0.086859</td>\n",
       "      <td>-0.284753</td>\n",
       "      <td>0.242111</td>\n",
       "      <td>0.234610</td>\n",
       "      <td>-0.562033</td>\n",
       "    </tr>\n",
       "    <tr>\n",
       "      <th>2</th>\n",
       "      <td>-0.007687</td>\n",
       "      <td>-0.231176</td>\n",
       "      <td>1.000000</td>\n",
       "      <td>0.334772</td>\n",
       "      <td>-0.244553</td>\n",
       "      <td>0.121942</td>\n",
       "      <td>-0.052018</td>\n",
       "      <td>-0.148811</td>\n",
       "    </tr>\n",
       "    <tr>\n",
       "      <th>3</th>\n",
       "      <td>-0.153986</td>\n",
       "      <td>0.086859</td>\n",
       "      <td>0.334772</td>\n",
       "      <td>1.000000</td>\n",
       "      <td>-0.110237</td>\n",
       "      <td>-0.034457</td>\n",
       "      <td>0.209375</td>\n",
       "      <td>0.041901</td>\n",
       "    </tr>\n",
       "    <tr>\n",
       "      <th>4</th>\n",
       "      <td>-0.042288</td>\n",
       "      <td>-0.284753</td>\n",
       "      <td>-0.244553</td>\n",
       "      <td>-0.110237</td>\n",
       "      <td>1.000000</td>\n",
       "      <td>0.168538</td>\n",
       "      <td>-0.182370</td>\n",
       "      <td>0.234197</td>\n",
       "    </tr>\n",
       "    <tr>\n",
       "      <th>5</th>\n",
       "      <td>0.311187</td>\n",
       "      <td>0.242111</td>\n",
       "      <td>0.121942</td>\n",
       "      <td>-0.034457</td>\n",
       "      <td>0.168538</td>\n",
       "      <td>1.000000</td>\n",
       "      <td>0.119865</td>\n",
       "      <td>-0.198346</td>\n",
       "    </tr>\n",
       "    <tr>\n",
       "      <th>6</th>\n",
       "      <td>-0.023219</td>\n",
       "      <td>0.234610</td>\n",
       "      <td>-0.052018</td>\n",
       "      <td>0.209375</td>\n",
       "      <td>-0.182370</td>\n",
       "      <td>0.119865</td>\n",
       "      <td>1.000000</td>\n",
       "      <td>-0.189481</td>\n",
       "    </tr>\n",
       "    <tr>\n",
       "      <th>7</th>\n",
       "      <td>0.288986</td>\n",
       "      <td>-0.562033</td>\n",
       "      <td>-0.148811</td>\n",
       "      <td>0.041901</td>\n",
       "      <td>0.234197</td>\n",
       "      <td>-0.198346</td>\n",
       "      <td>-0.189481</td>\n",
       "      <td>1.000000</td>\n",
       "    </tr>\n",
       "  </tbody>\n",
       "</table>\n",
       "</div>"
      ],
      "text/plain": [
       "          0         1         2         3         4         5         6  \\\n",
       "0  1.000000  0.252892 -0.007687 -0.153986 -0.042288  0.311187 -0.023219   \n",
       "1  0.252892  1.000000 -0.231176  0.086859 -0.284753  0.242111  0.234610   \n",
       "2 -0.007687 -0.231176  1.000000  0.334772 -0.244553  0.121942 -0.052018   \n",
       "3 -0.153986  0.086859  0.334772  1.000000 -0.110237 -0.034457  0.209375   \n",
       "4 -0.042288 -0.284753 -0.244553 -0.110237  1.000000  0.168538 -0.182370   \n",
       "5  0.311187  0.242111  0.121942 -0.034457  0.168538  1.000000  0.119865   \n",
       "6 -0.023219  0.234610 -0.052018  0.209375 -0.182370  0.119865  1.000000   \n",
       "7  0.288986 -0.562033 -0.148811  0.041901  0.234197 -0.198346 -0.189481   \n",
       "\n",
       "          7  \n",
       "0  0.288986  \n",
       "1 -0.562033  \n",
       "2 -0.148811  \n",
       "3  0.041901  \n",
       "4  0.234197  \n",
       "5 -0.198346  \n",
       "6 -0.189481  \n",
       "7  1.000000  "
      ]
     },
     "execution_count": 9,
     "metadata": {},
     "output_type": "execute_result"
    }
   ],
   "source": [
    "pd.DataFrame(data = X).corr()"
   ]
  },
  {
   "cell_type": "code",
   "execution_count": 5,
   "metadata": {},
   "outputs": [
    {
     "data": {
      "text/html": [
       "<div>\n",
       "<table border=\"1\" class=\"dataframe\">\n",
       "  <thead>\n",
       "    <tr style=\"text-align: right;\">\n",
       "      <th></th>\n",
       "      <th>Combnation 1</th>\n",
       "      <th>Combnation 2</th>\n",
       "      <th>Combnation 3</th>\n",
       "    </tr>\n",
       "  </thead>\n",
       "  <tbody>\n",
       "    <tr>\n",
       "      <th>Feature 1</th>\n",
       "      <td>0.000000</td>\n",
       "      <td>0.0</td>\n",
       "      <td>0.0</td>\n",
       "    </tr>\n",
       "    <tr>\n",
       "      <th>Feature 2</th>\n",
       "      <td>0.000000</td>\n",
       "      <td>0.0</td>\n",
       "      <td>0.0</td>\n",
       "    </tr>\n",
       "    <tr>\n",
       "      <th>Feature 3</th>\n",
       "      <td>0.000000</td>\n",
       "      <td>0.0</td>\n",
       "      <td>0.0</td>\n",
       "    </tr>\n",
       "    <tr>\n",
       "      <th>Feature 4</th>\n",
       "      <td>0.501194</td>\n",
       "      <td>0.0</td>\n",
       "      <td>0.0</td>\n",
       "    </tr>\n",
       "    <tr>\n",
       "      <th>Feature 5</th>\n",
       "      <td>0.865335</td>\n",
       "      <td>0.0</td>\n",
       "      <td>0.0</td>\n",
       "    </tr>\n",
       "    <tr>\n",
       "      <th>Feature 6</th>\n",
       "      <td>0.000000</td>\n",
       "      <td>0.0</td>\n",
       "      <td>0.0</td>\n",
       "    </tr>\n",
       "    <tr>\n",
       "      <th>Feature 7</th>\n",
       "      <td>0.000000</td>\n",
       "      <td>0.0</td>\n",
       "      <td>1.0</td>\n",
       "    </tr>\n",
       "    <tr>\n",
       "      <th>Feature 8</th>\n",
       "      <td>0.000000</td>\n",
       "      <td>1.0</td>\n",
       "      <td>0.0</td>\n",
       "    </tr>\n",
       "  </tbody>\n",
       "</table>\n",
       "</div>"
      ],
      "text/plain": [
       "           Combnation 1  Combnation 2  Combnation 3\n",
       "Feature 1      0.000000           0.0           0.0\n",
       "Feature 2      0.000000           0.0           0.0\n",
       "Feature 3      0.000000           0.0           0.0\n",
       "Feature 4      0.501194           0.0           0.0\n",
       "Feature 5      0.865335           0.0           0.0\n",
       "Feature 6      0.000000           0.0           0.0\n",
       "Feature 7      0.000000           0.0           1.0\n",
       "Feature 8      0.000000           1.0           0.0"
      ]
     },
     "execution_count": 5,
     "metadata": {},
     "output_type": "execute_result"
    }
   ],
   "source": [
    "index, columns = regression.index_columns(B)\n",
    "pd.DataFrame(regression.norm(B), index=index, columns=columns)"
   ]
  },
  {
   "cell_type": "markdown",
   "metadata": {},
   "source": [
    "## Apply Principal Component Analysis"
   ]
  },
  {
   "cell_type": "code",
   "execution_count": 6,
   "metadata": {},
   "outputs": [
    {
     "data": {
      "text/html": [
       "<div>\n",
       "<table border=\"1\" class=\"dataframe\">\n",
       "  <thead>\n",
       "    <tr style=\"text-align: right;\">\n",
       "      <th></th>\n",
       "      <th>Combnation 1</th>\n",
       "      <th>Combnation 2</th>\n",
       "      <th>Combnation 3</th>\n",
       "    </tr>\n",
       "  </thead>\n",
       "  <tbody>\n",
       "    <tr>\n",
       "      <th>Feature 1</th>\n",
       "      <td>0.071642</td>\n",
       "      <td>-0.039048</td>\n",
       "      <td>-0.380330</td>\n",
       "    </tr>\n",
       "    <tr>\n",
       "      <th>Feature 2</th>\n",
       "      <td>-0.032693</td>\n",
       "      <td>0.028409</td>\n",
       "      <td>0.179630</td>\n",
       "    </tr>\n",
       "    <tr>\n",
       "      <th>Feature 3</th>\n",
       "      <td>0.068556</td>\n",
       "      <td>0.009638</td>\n",
       "      <td>-0.527080</td>\n",
       "    </tr>\n",
       "    <tr>\n",
       "      <th>Feature 4</th>\n",
       "      <td>-0.036075</td>\n",
       "      <td>-0.622345</td>\n",
       "      <td>0.535288</td>\n",
       "    </tr>\n",
       "    <tr>\n",
       "      <th>Feature 5</th>\n",
       "      <td>-0.002909</td>\n",
       "      <td>-0.851733</td>\n",
       "      <td>-0.296182</td>\n",
       "    </tr>\n",
       "    <tr>\n",
       "      <th>Feature 6</th>\n",
       "      <td>-0.014039</td>\n",
       "      <td>-0.020969</td>\n",
       "      <td>0.151764</td>\n",
       "    </tr>\n",
       "    <tr>\n",
       "      <th>Feature 7</th>\n",
       "      <td>-0.024345</td>\n",
       "      <td>-0.000176</td>\n",
       "      <td>-0.441612</td>\n",
       "    </tr>\n",
       "    <tr>\n",
       "      <th>Feature 8</th>\n",
       "      <td>-0.914174</td>\n",
       "      <td>0.015333</td>\n",
       "      <td>-0.062793</td>\n",
       "    </tr>\n",
       "  </tbody>\n",
       "</table>\n",
       "</div>"
      ],
      "text/plain": [
       "           Combnation 1  Combnation 2  Combnation 3\n",
       "Feature 1      0.071642     -0.039048     -0.380330\n",
       "Feature 2     -0.032693      0.028409      0.179630\n",
       "Feature 3      0.068556      0.009638     -0.527080\n",
       "Feature 4     -0.036075     -0.622345      0.535288\n",
       "Feature 5     -0.002909     -0.851733     -0.296182\n",
       "Feature 6     -0.014039     -0.020969      0.151764\n",
       "Feature 7     -0.024345     -0.000176     -0.441612\n",
       "Feature 8     -0.914174      0.015333     -0.062793"
      ]
     },
     "execution_count": 6,
     "metadata": {},
     "output_type": "execute_result"
    }
   ],
   "source": [
    "from sklearn.decomposition import PCA, SparsePCA\n",
    "from edrgp.regression import GaussianProcessRegressor\n",
    "from edrgp.edr import EffectiveDimensionalityReduction\n",
    "PCA_edr = EffectiveDimensionalityReduction(GaussianProcessRegressor(),\n",
    "                                           PCA(n_components=3), normalize=True)\n",
    "PCA_edr.fit(X, y)\n",
    "\n",
    "pd.DataFrame(PCA_edr.components_.T, index=index, columns=columns)"
   ]
  },
  {
   "cell_type": "markdown",
   "metadata": {},
   "source": [
    "## Apply Sparse Principal Component Analysis"
   ]
  },
  {
   "cell_type": "code",
   "execution_count": 8,
   "metadata": {},
   "outputs": [
    {
     "data": {
      "text/html": [
       "<div>\n",
       "<table border=\"1\" class=\"dataframe\">\n",
       "  <thead>\n",
       "    <tr style=\"text-align: right;\">\n",
       "      <th></th>\n",
       "      <th>Combnation 1</th>\n",
       "      <th>Combnation 2</th>\n",
       "      <th>Combnation 3</th>\n",
       "    </tr>\n",
       "  </thead>\n",
       "  <tbody>\n",
       "    <tr>\n",
       "      <th>Feature 1</th>\n",
       "      <td>0.0</td>\n",
       "      <td>0.0</td>\n",
       "      <td>0.000000</td>\n",
       "    </tr>\n",
       "    <tr>\n",
       "      <th>Feature 2</th>\n",
       "      <td>0.0</td>\n",
       "      <td>0.0</td>\n",
       "      <td>0.000000</td>\n",
       "    </tr>\n",
       "    <tr>\n",
       "      <th>Feature 3</th>\n",
       "      <td>0.0</td>\n",
       "      <td>0.0</td>\n",
       "      <td>0.000000</td>\n",
       "    </tr>\n",
       "    <tr>\n",
       "      <th>Feature 4</th>\n",
       "      <td>0.0</td>\n",
       "      <td>0.0</td>\n",
       "      <td>-0.577664</td>\n",
       "    </tr>\n",
       "    <tr>\n",
       "      <th>Feature 5</th>\n",
       "      <td>0.0</td>\n",
       "      <td>0.0</td>\n",
       "      <td>-0.816275</td>\n",
       "    </tr>\n",
       "    <tr>\n",
       "      <th>Feature 6</th>\n",
       "      <td>0.0</td>\n",
       "      <td>0.0</td>\n",
       "      <td>0.000000</td>\n",
       "    </tr>\n",
       "    <tr>\n",
       "      <th>Feature 7</th>\n",
       "      <td>1.0</td>\n",
       "      <td>0.0</td>\n",
       "      <td>0.000000</td>\n",
       "    </tr>\n",
       "    <tr>\n",
       "      <th>Feature 8</th>\n",
       "      <td>0.0</td>\n",
       "      <td>-1.0</td>\n",
       "      <td>0.000000</td>\n",
       "    </tr>\n",
       "  </tbody>\n",
       "</table>\n",
       "</div>"
      ],
      "text/plain": [
       "           Combnation 1  Combnation 2  Combnation 3\n",
       "Feature 1           0.0           0.0      0.000000\n",
       "Feature 2           0.0           0.0      0.000000\n",
       "Feature 3           0.0           0.0      0.000000\n",
       "Feature 4           0.0           0.0     -0.577664\n",
       "Feature 5           0.0           0.0     -0.816275\n",
       "Feature 6           0.0           0.0      0.000000\n",
       "Feature 7           1.0           0.0      0.000000\n",
       "Feature 8           0.0          -1.0      0.000000"
      ]
     },
     "execution_count": 8,
     "metadata": {},
     "output_type": "execute_result"
    }
   ],
   "source": [
    "sPCA_edr = EffectiveDimensionalityReduction(GaussianProcessRegressor(),\n",
    "                                            SparsePCA(n_components=3, alpha=1),\n",
    "                                            normalize=True)\n",
    "sPCA_edr.fit(X, y)\n",
    "\n",
    "pd.DataFrame(regression.norm(sPCA_edr.components_.T), index=index, columns=columns)"
   ]
  }
 ],
 "metadata": {
  "anaconda-cloud": {},
  "kernelspec": {
   "display_name": "Python [conda env:mypy35]",
   "language": "python",
   "name": "conda-env-mypy35-py"
  },
  "language_info": {
   "codemirror_mode": {
    "name": "ipython",
    "version": 3
   },
   "file_extension": ".py",
   "mimetype": "text/x-python",
   "name": "python",
   "nbconvert_exporter": "python",
   "pygments_lexer": "ipython3",
   "version": "3.5.2"
  },
  "latex_envs": {
   "LaTeX_envs_menu_present": true,
   "bibliofile": "biblio.bib",
   "cite_by": "apalike",
   "current_citInitial": 1,
   "eqLabelWithNumbers": true,
   "eqNumInitial": 1,
   "hotkeys": {
    "equation": "Ctrl-E",
    "itemize": "Ctrl-I"
   },
   "labels_anchors": false,
   "latex_user_defs": false,
   "report_style_numbering": false,
   "user_envs_cfg": false
  }
 },
 "nbformat": 4,
 "nbformat_minor": 2
}
