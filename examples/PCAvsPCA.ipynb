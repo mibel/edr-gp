{
 "cells": [
  {
   "cell_type": "markdown",
   "metadata": {},
   "source": [
    "# Example 2"
   ]
  },
  {
   "cell_type": "markdown",
   "metadata": {},
   "source": [
    "It's an example with sparse matrix $B$ $\\left(f(x) = \\overline{f}(Bx)\\right)$ showing that PCA will produce a dense response while sPCA will give a sparse one"
   ]
  },
  {
   "cell_type": "code",
   "execution_count": 1,
   "metadata": {
    "collapsed": true
   },
   "outputs": [],
   "source": [
    "import sys\n",
    "import os.path as op\n",
    "sys.path = [op.abspath('../')] + sys.path + [op.abspath('../')]"
   ]
  },
  {
   "cell_type": "code",
   "execution_count": 2,
   "metadata": {
    "collapsed": true
   },
   "outputs": [],
   "source": [
    "import regression\n",
    "import seaborn as sns\n",
    "sns.set()\n",
    "%matplotlib inline"
   ]
  },
  {
   "cell_type": "code",
   "execution_count": 3,
   "metadata": {
    "collapsed": true
   },
   "outputs": [],
   "source": [
    "import numpy as np\n",
    "import scipy\n",
    "from scipy.linalg import sqrtm, inv"
   ]
  },
  {
   "cell_type": "code",
   "execution_count": 57,
   "metadata": {
    "collapsed": true
   },
   "outputs": [],
   "source": [
    "def sym(w):\n",
    "    return w.dot(inv(sqrtm(w.T.dot(w))))\n",
    "\n",
    "def get_data(sample_size=500, noise_std=0.03):\n",
    "    # generate covariance mat\n",
    "    U = np.random.rand(8, 8)\n",
    "    U = sym(U)\n",
    "    S = np.diag([2, 1.7, 1.4, 1.1, 0.9, 0.7, 0.4, 0.1])\n",
    "    cov = np.dot(np.dot(U, S), U.T)\n",
    "    # generate centered inputs\n",
    "    X = np.random.multivariate_normal(np.zeros((1, 8))[0], cov, sample_size)\n",
    "    X -= X.mean(0)\n",
    "    B = scipy.sparse.rand(X.shape[1], 2, density=0.2, random_state=7)\n",
    "    y = func(X, B.A) + noise_std * np.random.randn(sample_size)\n",
    "    return X, y, B.A\n",
    "\n",
    "def func(X, B):\n",
    "    return  np.sum(np.tanh(np.dot(X, B)),axis = 1)"
   ]
  },
  {
   "cell_type": "code",
   "execution_count": 58,
   "metadata": {
    "collapsed": true
   },
   "outputs": [],
   "source": [
    "X, y, B = get_data()"
   ]
  },
  {
   "cell_type": "code",
   "execution_count": 62,
   "metadata": {},
   "outputs": [
    {
     "data": {
      "text/plain": [
       "<edrgp.edr.EffectiveDimensionalityReduction at 0x7f8250ced860>"
      ]
     },
     "execution_count": 62,
     "metadata": {},
     "output_type": "execute_result"
    }
   ],
   "source": [
    "from sklearn.decomposition import PCA, SparsePCA\n",
    "from edrgp.regression import GaussianProcessRegressor\n",
    "from edrgp.edr import EffectiveDimensionalityReduction\n",
    "PCA_edr = EffectiveDimensionalityReduction(GaussianProcessRegressor(),\n",
    "                                           PCA(n_components=2), normalize=True)\n",
    "PCA_edr.fit(X, y)"
   ]
  },
  {
   "cell_type": "code",
   "execution_count": 69,
   "metadata": {},
   "outputs": [
    {
     "data": {
      "text/plain": [
       "array([[ 0.00400796, -0.00813436],\n",
       "       [-0.14618737, -0.76992173],\n",
       "       [ 0.00505738, -0.05096732],\n",
       "       [ 0.00436743, -0.00995607],\n",
       "       [-1.16176695,  0.20762962],\n",
       "       [ 0.01971241, -0.0355548 ],\n",
       "       [-0.03731789,  0.06120155],\n",
       "       [-0.09383576, -0.54754552]])"
      ]
     },
     "execution_count": 69,
     "metadata": {},
     "output_type": "execute_result"
    }
   ],
   "source": [
    "PCA_edr.components_.T"
   ]
  },
  {
   "cell_type": "code",
   "execution_count": 73,
   "metadata": {},
   "outputs": [
    {
     "data": {
      "text/plain": [
       "<edrgp.edr.EffectiveDimensionalityReduction at 0x7f82512bfd30>"
      ]
     },
     "execution_count": 73,
     "metadata": {},
     "output_type": "execute_result"
    }
   ],
   "source": [
    "sPCA_edr = EffectiveDimensionalityReduction(GaussianProcessRegressor(),\n",
    "                                            SparsePCA(n_components=2),\n",
    "                                            normalize=True)\n",
    "sPCA_edr.fit(X, y)"
   ]
  },
  {
   "cell_type": "code",
   "execution_count": 82,
   "metadata": {},
   "outputs": [
    {
     "data": {
      "text/plain": [
       "array([[ 0.        ,  0.        ],\n",
       "       [ 0.        ,  0.49916413],\n",
       "       [ 0.        ,  0.        ],\n",
       "       [ 0.        ,  0.        ],\n",
       "       [-0.97059779,  0.        ],\n",
       "       [ 0.        ,  0.        ],\n",
       "       [ 0.        ,  0.        ],\n",
       "       [ 0.        ,  0.32989411]])"
      ]
     },
     "execution_count": 82,
     "metadata": {},
     "output_type": "execute_result"
    }
   ],
   "source": [
    "sPCA_edr.components_.T/14.73"
   ]
  },
  {
   "cell_type": "code",
   "execution_count": 83,
   "metadata": {},
   "outputs": [
    {
     "ename": "AttributeError",
     "evalue": "'EffectiveDimensionalityReduction' object has no attribute 'scaler_'",
     "output_type": "error",
     "traceback": [
      "\u001b[0;31m---------------------------------------------------------------------------\u001b[0m",
      "\u001b[0;31mAttributeError\u001b[0m                            Traceback (most recent call last)",
      "\u001b[0;32m<ipython-input-83-9194f99007f3>\u001b[0m in \u001b[0;36m<module>\u001b[0;34m()\u001b[0m\n\u001b[0;32m----> 1\u001b[0;31m \u001b[0msPCA_edr\u001b[0m\u001b[0;34m.\u001b[0m\u001b[0mscaler_\u001b[0m\u001b[0;34m\u001b[0m\u001b[0m\n\u001b[0m",
      "\u001b[0;31mAttributeError\u001b[0m: 'EffectiveDimensionalityReduction' object has no attribute 'scaler_'"
     ]
    }
   ],
   "source": [
    "sPCA_edr.scaler"
   ]
  },
  {
   "cell_type": "code",
   "execution_count": 81,
   "metadata": {},
   "outputs": [
    {
     "data": {
      "text/plain": [
       "14.731958762886597"
      ]
     },
     "execution_count": 81,
     "metadata": {},
     "output_type": "execute_result"
    }
   ],
   "source": [
    "14.29/0.97"
   ]
  },
  {
   "cell_type": "code",
   "execution_count": null,
   "metadata": {
    "collapsed": true
   },
   "outputs": [],
   "source": []
  }
 ],
 "metadata": {
  "anaconda-cloud": {},
  "kernelspec": {
   "display_name": "Python [conda env:mypy35]",
   "language": "python",
   "name": "conda-env-mypy35-py"
  },
  "language_info": {
   "codemirror_mode": {
    "name": "ipython",
    "version": 3
   },
   "file_extension": ".py",
   "mimetype": "text/x-python",
   "name": "python",
   "nbconvert_exporter": "python",
   "pygments_lexer": "ipython3",
   "version": "3.5.2"
  },
  "latex_envs": {
   "LaTeX_envs_menu_present": true,
   "bibliofile": "biblio.bib",
   "cite_by": "apalike",
   "current_citInitial": 1,
   "eqLabelWithNumbers": true,
   "eqNumInitial": 1,
   "hotkeys": {
    "equation": "Ctrl-E",
    "itemize": "Ctrl-I"
   },
   "labels_anchors": false,
   "latex_user_defs": false,
   "report_style_numbering": false,
   "user_envs_cfg": false
  }
 },
 "nbformat": 4,
 "nbformat_minor": 2
}
